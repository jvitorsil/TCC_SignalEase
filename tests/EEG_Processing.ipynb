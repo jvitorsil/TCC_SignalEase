{
 "cells": [
  {
   "cell_type": "code",
   "execution_count": 7,
   "metadata": {},
   "outputs": [],
   "source": [
    "import pyedflib\n"
   ]
  },
  {
   "cell_type": "code",
   "execution_count": 9,
   "metadata": {},
   "outputs": [
    {
     "name": "stdout",
     "output_type": "stream",
     "text": [
      "[array([  76.375,  129.5  ,  155.25 , ..., -178.375, -214.5  , -195.375]), array([  42.625,   86.75 ,  103.125, ..., -140.625, -174.625, -164.5  ]), array([ 112.   ,  159.375,  191.25 , ..., -168.25 , -207.375, -183.5  ]), array([ 101.25 ,  149.375,  177.375, ..., -156.375, -192.875, -177.125]), array([  90.625,  137.75 ,  155.625, ..., -192.625, -230.   , -209.375]), array([  55.875,  104.75 ,  119.25 , ..., -144.   , -178.75 , -170.25 ]), array([ 144.625,  195.   ,  217.25 , ..., -201.875, -233.   , -206.5  ]), array([  90.625,  132.25 ,  153.25 , ..., -175.625, -207.125, -186.375]), array([  51.125,   79.75 ,   90.875, ..., -141.125, -174.375, -161.375]), array([ 109.375,  144.5  ,  124.   , ..., -165.75 , -196.5  , -177.125]), array([  71.375,  116.125,  141.   , ..., -152.25 , -191.   , -181.625]), array([  70.875,  110.75 ,  130.75 , ..., -131.625, -167.375, -160.   ]), array([8., 8., 8., ..., 8., 8., 8.])]\n"
     ]
    }
   ],
   "source": [
    "# Substitua pelo caminho do seu arquivo .edf\n",
    "file_path = 'EEG_Data.edf'\n",
    "\n",
    "# Abre o arquivo EDF\n",
    "f = pyedflib.EdfReader(file_path)\n",
    "\n",
    "# Obtém o número de sinais (canais)\n",
    "n_signals = f.signals_in_file\n",
    "\n",
    "# Cria uma lista para armazenar os dados de cada canal\n",
    "signals = []\n",
    "\n",
    "# Itera sobre os canais para extrair os dados\n",
    "for i in range(n_signals):\n",
    "    signal = f.readSignal(i)\n",
    "    signals.append(signal)\n",
    "\n",
    "# Fecha o arquivo após a leitura\n",
    "f.close()\n",
    "\n",
    "print(signals[0])"
   ]
  },
  {
   "cell_type": "code",
   "execution_count": 14,
   "metadata": {},
   "outputs": [
    {
     "name": "stdout",
     "output_type": "stream",
     "text": [
      "13\n"
     ]
    }
   ],
   "source": [
    "print(len(signals))"
   ]
  }
 ],
 "metadata": {
  "kernelspec": {
   "display_name": "Python 3",
   "language": "python",
   "name": "python3"
  },
  "language_info": {
   "codemirror_mode": {
    "name": "ipython",
    "version": 3
   },
   "file_extension": ".py",
   "mimetype": "text/x-python",
   "name": "python",
   "nbconvert_exporter": "python",
   "pygments_lexer": "ipython3",
   "version": "3.11.4"
  }
 },
 "nbformat": 4,
 "nbformat_minor": 2
}
